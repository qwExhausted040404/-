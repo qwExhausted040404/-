{
  "nbformat": 4,
  "nbformat_minor": 0,
  "metadata": {
    "colab": {
      "provenance": [],
      "include_colab_link": true
    },
    "kernelspec": {
      "name": "python3",
      "display_name": "Python 3"
    },
    "language_info": {
      "name": "python"
    }
  },
  "cells": [
    {
      "cell_type": "markdown",
      "metadata": {
        "id": "view-in-github",
        "colab_type": "text"
      },
      "source": [
        "<a href=\"https://colab.research.google.com/github/qwExhausted040404/-/blob/main/%D0%9A%D0%BE%D0%BF%D0%B8%D1%8F_%D0%B1%D0%BB%D0%BE%D0%BA%D0%BD%D0%BE%D1%82%D0%B0_%22%22%D0%9F%D1%80%D0%B0%D0%BA%D1%82%D0%B8%D0%BA%D0%B0_0_2_0_ipynb%22%22.ipynb\" target=\"_parent\"><img src=\"https://colab.research.google.com/assets/colab-badge.svg\" alt=\"Open In Colab\"/></a>"
      ]
    },
    {
      "cell_type": "markdown",
      "source": [
        "Напишите свое ФИО: Тумаков Тимофей Кириллович"
      ],
      "metadata": {
        "id": "0PnTh-ajEoEb"
      }
    },
    {
      "cell_type": "code",
      "source": [
        "print('Привет студентам!')"
      ],
      "metadata": {
        "id": "QyMVPjzWErHw",
        "colab": {
          "base_uri": "https://localhost:8080/"
        },
        "outputId": "7a1724de-56a9-4b4e-f7dd-d5fca42ff012"
      },
      "execution_count": null,
      "outputs": [
        {
          "output_type": "stream",
          "name": "stdout",
          "text": [
            "Привет студентам!\n"
          ]
        }
      ]
    },
    {
      "cell_type": "markdown",
      "source": [
        "# Основы"
      ],
      "metadata": {
        "id": "HPwKiIA4EKO-"
      }
    },
    {
      "cell_type": "markdown",
      "source": [
        "Задание 1: Напиши программу, выводящую на экран сообщение \"Привет, мир!\""
      ],
      "metadata": {
        "id": "8po5IidFERZ8"
      }
    },
    {
      "cell_type": "code",
      "execution_count": null,
      "metadata": {
        "id": "sBRjlCVLEIQr",
        "colab": {
          "base_uri": "https://localhost:8080/"
        },
        "outputId": "e8ca40fd-9dde-42e4-9a36-e804a0086de7"
      },
      "outputs": [
        {
          "output_type": "stream",
          "name": "stdout",
          "text": [
            "Привет, мир!\n"
          ]
        }
      ],
      "source": [
        "print('Привет, мир!')"
      ]
    },
    {
      "cell_type": "markdown",
      "source": [
        "Задание 2: Напиши программу которая запрашивает имя пользователя и выводит сообщение:\n",
        "\n",
        "`Привет, <Имя пользователя>`"
      ],
      "metadata": {
        "id": "pUQIIo94EYLg"
      }
    },
    {
      "cell_type": "code",
      "source": [
        "a=input('Введите ваше имя: ')\n",
        "print(a)"
      ],
      "metadata": {
        "id": "nNwHKmAnEinH",
        "colab": {
          "base_uri": "https://localhost:8080/"
        },
        "outputId": "a02d4579-f04e-4a06-99a3-94650a8dce35"
      },
      "execution_count": null,
      "outputs": [
        {
          "output_type": "stream",
          "name": "stdout",
          "text": [
            "Введите ваше имя: Тимофей\n",
            "Тимофей\n"
          ]
        }
      ]
    },
    {
      "cell_type": "markdown",
      "source": [
        "Задание 3: Напиши программу определяющую является ли число четным или нечетным:\n",
        "\n",
        "Пример:\n",
        "\n",
        "`Введите число:` 2\n",
        "\n",
        "`Ваше число четное!`"
      ],
      "metadata": {
        "id": "SAUm9W6_Etkh"
      }
    },
    {
      "cell_type": "code",
      "source": [
        "a=int(input('Введите число: '))\n",
        "if a%2==0:\n",
        "  print('Ваше число четное')\n",
        "else:\n",
        "  print('Ваше число нечетное')"
      ],
      "metadata": {
        "id": "LXv7AIN1E4on",
        "colab": {
          "base_uri": "https://localhost:8080/"
        },
        "outputId": "084a6926-d346-48e6-cf86-6b948304dfde"
      },
      "execution_count": null,
      "outputs": [
        {
          "output_type": "stream",
          "name": "stdout",
          "text": [
            "Введите число: 57\n",
            "Ваше число нечетное\n"
          ]
        }
      ]
    },
    {
      "cell_type": "markdown",
      "source": [
        "Задание 4: Напишите программу которая запрашивает длинну и ширину прямоугольника и выводит его площадь:\n",
        "\n",
        "\n",
        "\n",
        "`Введите длинну прямоугольника:`\n",
        "\n",
        "`Введите ширину прямоугольника:`\n",
        "\n",
        "`Площадь прямоугольника: `\n",
        "\n"
      ],
      "metadata": {
        "id": "OW1Y5KyUE_n9"
      }
    },
    {
      "cell_type": "code",
      "source": [
        "a=int(input('Введите длинну прямоугольника: '))\n",
        "b=int(input('Введите ширину прямоугольника: '))\n",
        "print('Площадь прямоугольника: ' + str(a*b))"
      ],
      "metadata": {
        "id": "Bu5iawknFbXP",
        "colab": {
          "base_uri": "https://localhost:8080/"
        },
        "outputId": "c54c6c7a-960e-4db8-d75d-9c82cd13c432"
      },
      "execution_count": null,
      "outputs": [
        {
          "output_type": "stream",
          "name": "stdout",
          "text": [
            "Введите длинну прямоугольника: 5\n",
            "Введите ширину прямоугольника: 10\n",
            "Площадь прямоугольника: 50\n"
          ]
        }
      ]
    },
    {
      "cell_type": "markdown",
      "source": [
        "Задание 5: Напишите программу, которая будет вычислять среднее арифметическое введенных чисел"
      ],
      "metadata": {
        "id": "xj8_QNLsFfLw"
      }
    },
    {
      "cell_type": "code",
      "source": [
        "a=list(input('Введите числа через пробел: ').split(' '))\n",
        "b=[]\n",
        "for i in range(len(a)):\n",
        "  b.append(int(a[i]))\n",
        "print('среднее арифметическое чисел равно: ' + str(sum(b)/len(b)))"
      ],
      "metadata": {
        "id": "omumX59JFoKw",
        "colab": {
          "base_uri": "https://localhost:8080/"
        },
        "outputId": "49b7d03c-9c2a-4061-8c0b-c51d5dd2e91d"
      },
      "execution_count": null,
      "outputs": [
        {
          "output_type": "stream",
          "name": "stdout",
          "text": [
            "Введите числа через пробел: 5 10 15\n",
            "среднее арифметическое чисел равно: 10.0\n"
          ]
        }
      ]
    },
    {
      "cell_type": "markdown",
      "source": [
        "Задание 6: Напиши программу, которая бы определяла является ли год високосным"
      ],
      "metadata": {
        "id": "qHXcBMUJcP91"
      }
    },
    {
      "cell_type": "code",
      "source": [
        "a=int(input('Введите год: '))\n",
        "if a%4==0:\n",
        "  print('Год високосный')\n",
        "else:\n",
        "  print('Год не високосный')"
      ],
      "metadata": {
        "id": "5zIg47mwcKKr",
        "colab": {
          "base_uri": "https://localhost:8080/"
        },
        "outputId": "589cf8d2-a711-4acd-b75a-55f8a6cada12"
      },
      "execution_count": null,
      "outputs": [
        {
          "output_type": "stream",
          "name": "stdout",
          "text": [
            "Введите год: 2003\n",
            "Год не високосный\n"
          ]
        }
      ]
    },
    {
      "cell_type": "markdown",
      "source": [
        "Задание 7: Необходимо создать простой калькулятор, который позволяет пользователю выбрать одну из четырёх операций (+, -, *, /), ввести два числа и получить результат выполнения операции."
      ],
      "metadata": {
        "id": "CYaQ69kucdhj"
      }
    },
    {
      "cell_type": "code",
      "source": [
        "a=input('выберете действие: ')\n",
        "b=int(input('Введите первое число: '))\n",
        "c=int(input('Введите второе число: '))\n",
        "if a=='+':\n",
        "  print(b+c)\n",
        "if a=='-':\n",
        "  print(b-c)\n",
        "if a=='*':\n",
        "  print(b*c)\n",
        "if a=='/':\n",
        "  print(b/c)"
      ],
      "metadata": {
        "id": "wR5UyEf7ciIE",
        "colab": {
          "base_uri": "https://localhost:8080/"
        },
        "outputId": "d8a6e6b6-1488-4d8f-bc8f-c29623635977"
      },
      "execution_count": null,
      "outputs": [
        {
          "output_type": "stream",
          "name": "stdout",
          "text": [
            "выберете действие: *\n",
            "Введите первое число10\n",
            "Введите второе число16\n",
            "160\n"
          ]
        }
      ]
    },
    {
      "cell_type": "markdown",
      "source": [
        "--------------------------------------------------------------------------------\n",
        "\n",
        "**Да, задания ниже тоже обязательны, вам необходимо выполнить веееееесь файл**\n",
        "\n",
        "--------------------------------------------------------------------------------\n"
      ],
      "metadata": {
        "id": "PcJ66hI-vAlk"
      }
    },
    {
      "cell_type": "markdown",
      "source": [
        "# Практика 0.2.1"
      ],
      "metadata": {
        "id": "XWBhGpdEFo-U"
      }
    },
    {
      "cell_type": "markdown",
      "source": [
        "**Шахматы**\n",
        "\n",
        "Даны стартовые и конечные координаты, а также фигура\n",
        "\n",
        "Необходимо определить, может ли заданная фигура так ходить?"
      ],
      "metadata": {
        "id": "9Lw9odpqFwtn"
      }
    },
    {
      "cell_type": "code",
      "source": [
        "c=input('Введите название фигуры: ')\n",
        "a=int(input('Введите начальные координаты по х: '))\n",
        "a1=int(input('Введите начальные координаты по у: '))\n",
        "b=int(input('Введите конечные координаты по х: '))\n",
        "b1=int(input('Введите начальные координаты по у: '))\n",
        "if 0<a<=8 and 0<a1<=8 and 0<b<=8 and 0<b1<=8:\n",
        "  if c=='король':\n",
        "    if abs(b-a)<=1 and abs(b1-a1)<=1:\n",
        "      print('Да')\n",
        "    else:\n",
        "      print('нет')\n",
        "  elif c=='конь':\n",
        "    print(abs(b-a)==1 and abs(b1-a1)==2) or (abs(b-a)==2 and abs(b1-a1)==1)\n",
        "    if (abs(b-a)==1 and abs(b1-a1)==2) or (abs(b-a)==2 and abs(b1-a1)==1):\n",
        "      print('да')\n",
        "    else:\n",
        "      print('нет')\n",
        "  elif c=='слон':\n",
        "    if abs(b-a)==abs(b1-a1):\n",
        "      print('да')\n",
        "    else:\n",
        "      print('нет')\n",
        "  elif c=='ладья':\n",
        "    if abs(b-a)==0 or abs(b1-a1)==0:\n",
        "      print('да')\n",
        "    else:\n",
        "      print('нет')\n",
        "  elif c=='пешка':\n",
        "    if abs(b-a)==0 and ((b1-a1)==1 or (b1-a1)==2):\n",
        "      print('да')\n",
        "    else:\n",
        "      print('нет')\n",
        "  elif c=='ферзь':\n",
        "    if (abs(b-a)==abs(b1-a1)) or (abs(b-a)==0 or abs(b1-a1)==0):\n",
        "      print('да')\n",
        "    else:\n",
        "      print('нет')"
      ],
      "metadata": {
        "id": "9IICo0p3F07P",
        "colab": {
          "base_uri": "https://localhost:8080/"
        },
        "outputId": "21a71046-17d9-468c-c3df-e0b624173d82"
      },
      "execution_count": null,
      "outputs": [
        {
          "output_type": "stream",
          "name": "stdout",
          "text": [
            "Введите название фигуры: ладья\n",
            "Введите начальные координаты по х: 1\n",
            "Введите начальные координаты по у: 1\n",
            "Введите конечные координаты по х: 1\n",
            "Введите начальные координаты по у: 8\n",
            "да\n"
          ]
        }
      ]
    },
    {
      "cell_type": "markdown",
      "source": [
        "# Практика 0.2.2\n",
        "\n",
        "**Цифра на определенном месте:**\n",
        "\n",
        "Последовательно записан натуральный ряд чисел.\n",
        "\n",
        "Какая цифра стоит в N позиции"
      ],
      "metadata": {
        "id": "wI5bLNpHGDmO"
      }
    },
    {
      "cell_type": "code",
      "source": [
        "a=list(input('Введите ряд чисел через пробел: ').split(' '))\n",
        "b=int(input('Введите позицию цифры, которое хотите найти'))\n",
        "s=''\n",
        "for i in a:\n",
        "  s=s+i\n",
        "print('На '+ str(b) + ' позиции находится цифра ' + s[b-1])"
      ],
      "metadata": {
        "id": "XLm_zFGzGNsU",
        "colab": {
          "base_uri": "https://localhost:8080/"
        },
        "outputId": "c73b3a9b-8be5-4d8c-8642-0d9d92cc16d4"
      },
      "execution_count": null,
      "outputs": [
        {
          "output_type": "stream",
          "name": "stdout",
          "text": [
            "Введите ряд чисел через пробел: 1 2 3 4 5 6 7 8 9 10 444 576 999\n",
            "Введите позицию цифры, которое хотите найти15\n",
            "На 15 позиции находится цифра 5\n"
          ]
        }
      ]
    },
    {
      "cell_type": "markdown",
      "source": [
        "# Практика 0.2.3\n",
        "\n",
        "\n",
        "Возьмите код из задания 7 и улучшите ваш калькулятор следующим образом:\n",
        "\n",
        "Пользователь вводит строку вида:\n",
        "\n",
        "(5+5)*5 - данная строка содержит в себе математическое выражение, а также скобки\n",
        "\n",
        "Ваша программа должная понять что за математическое выражение записано, проверить верно ли оно записано (пример неверного заполнения: (5(+)5)*5, а также расчитать его в соотвествии с правилами математики"
      ],
      "metadata": {
        "id": "dpxTJv-scnMy"
      }
    },
    {
      "cell_type": "code",
      "source": [
        "a=list(input('Запишите выражение, где каждый элемент идет через пробел: ').split(' ')) #Записывать нужно в виде ( 5 + 5 )\n",
        "k=0\n",
        "for i in range(len(a)):\n",
        "    if '0' in a[i] or '1' in a[i] or '2' in a[i] or '3' in a[i] or '4' in a[i] or '5' in a[i] or '6' in a[i] or '7' in a[i] or '8' in a[i] or '9' in a[i]:\n",
        "        k+=1 #Считаю количество числовых элементов примера\n",
        "A=''\n",
        "for l in a:\n",
        "  A+=l\n",
        "print(A)\n",
        "b=A.replace('(', '<').replace(')', '<').replace('+', '>').replace('-', '>').replace('/', '>').replace('*', '>')\n",
        "if A[0] not in [')', '+', '*', '/', '-'] and A[-1] not in ['(', '+', '*', '/', '-'] and A.count('(')==A.count(')') and b.count('>')>=1 and '<><' not in b and '><' not in b and '>>' not in b and k>=2:\n",
        "  print('выражение верно записано')\n",
        "else:\n",
        "  print('Ошибка')\n",
        "#дальше я попробовал посчитать введенные примерчики, но я не смог реализовать приоритет действий и два одинаковых действия подряд :(\n",
        "'''\n",
        "  for i in range(len(a)):\n",
        "    if a[i]=='*':\n",
        "        a[i]=str(int(a[i-1])*int(a[i+1]))\n",
        "        a[i-1]=' '\n",
        "        a[i+1]=' '\n",
        "while ' ' in a:\n",
        "    a.remove(' ')\n",
        " '''\n"
      ],
      "metadata": {
        "id": "18gOluyHcmmf",
        "colab": {
          "base_uri": "https://localhost:8080/",
          "height": 87
        },
        "outputId": "d95a5f2f-c3c2-4699-e609-acb28f50b9f2"
      },
      "execution_count": null,
      "outputs": [
        {
          "output_type": "stream",
          "name": "stdout",
          "text": [
            "Запишите выражение, где каждый элемент идет через пробел: ( 5 * 5 ) * * 5\n",
            "(5*5)**5\n",
            "Ошибка 3\n"
          ]
        },
        {
          "output_type": "execute_result",
          "data": {
            "text/plain": [
              "\"\\n  for i in range(len(a)):\\n    if a[i]=='*':\\n        a[i]=str(int(a[i-1])*int(a[i+1]))\\n        a[i-1]=' '\\n        a[i+1]=' '\\nwhile ' ' in a:\\n    a.remove(' ')\\n \""
            ],
            "application/vnd.google.colaboratory.intrinsic+json": {
              "type": "string"
            }
          },
          "metadata": {},
          "execution_count": 44
        }
      ]
    }
  ]
}