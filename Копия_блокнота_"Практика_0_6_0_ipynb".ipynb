{
  "nbformat": 4,
  "nbformat_minor": 0,
  "metadata": {
    "colab": {
      "provenance": [],
      "include_colab_link": true
    },
    "kernelspec": {
      "name": "python3",
      "display_name": "Python 3"
    },
    "language_info": {
      "name": "python"
    }
  },
  "cells": [
    {
      "cell_type": "markdown",
      "metadata": {
        "id": "view-in-github",
        "colab_type": "text"
      },
      "source": [
        "<a href=\"https://colab.research.google.com/github/qwExhausted040404/-/blob/main/%D0%9A%D0%BE%D0%BF%D0%B8%D1%8F_%D0%B1%D0%BB%D0%BE%D0%BA%D0%BD%D0%BE%D1%82%D0%B0_%22%D0%9F%D1%80%D0%B0%D0%BA%D1%82%D0%B8%D0%BA%D0%B0_0_6_0_ipynb%22.ipynb\" target=\"_parent\"><img src=\"https://colab.research.google.com/assets/colab-badge.svg\" alt=\"Open In Colab\"/></a>"
      ]
    },
    {
      "cell_type": "markdown",
      "source": [
        "\n",
        "\n",
        "---\n",
        "\n"
      ],
      "metadata": {
        "id": "tKNG_RzWxG6g"
      }
    },
    {
      "cell_type": "markdown",
      "source": [
        "# **Дисклеймер**\n",
        "\n",
        "В данной практике будет введен дополнительный критерий: чистота и читаемость кода, а также соблюдение правил описанных в начале практики"
      ],
      "metadata": {
        "id": "cFcrKfclKWh0"
      }
    },
    {
      "cell_type": "code",
      "source": [
        "Тумаков Тимофей Кириллович"
      ],
      "metadata": {
        "id": "QaZjVIxBCqYO"
      },
      "execution_count": null,
      "outputs": []
    },
    {
      "cell_type": "markdown",
      "source": [
        "\n",
        "\n",
        "---\n",
        "\n"
      ],
      "metadata": {
        "id": "0SnE87X1xDlV"
      }
    },
    {
      "cell_type": "markdown",
      "source": [
        "# Задание 1\n",
        "\n",
        "**Задача:**\n",
        "\n",
        "Напишите функцию очищающий список от дубликтов\n",
        "\n",
        "\n",
        "*Запрещено:*\n",
        "\n",
        "*   Использовать set() или готовые функции очищающие список от дубликатов\n",
        "\n",
        "Вввод:\n",
        "\n",
        "```\n",
        "apple banana apple 1 3 4 4 5\n",
        "```\n",
        "\n",
        "\n",
        "Вывод:\n",
        "\n",
        "```\n",
        "apple banana 1 3 4 5\n",
        "```\n",
        "\n"
      ],
      "metadata": {
        "id": "VxawR9NubT_F"
      }
    },
    {
      "cell_type": "code",
      "source": [
        "object_input = list(input('Введите через порбел: ').split(' '))\n",
        "def sort(object_input):\n",
        "  object_sort = []\n",
        "  for i in object_input:\n",
        "    if i not in object_sort:\n",
        "      object_sort.append(i)\n",
        "  return object_sort\n",
        "\n",
        "\n",
        "print(sort(object_input))\n",
        "#1 2 2 1 4 5 2 4 банан кокос банан вода"
      ],
      "metadata": {
        "id": "ml5gnbPXbeju",
        "colab": {
          "base_uri": "https://localhost:8080/"
        },
        "outputId": "93292e46-8231-4f61-b21c-3833f08c741a"
      },
      "execution_count": null,
      "outputs": [
        {
          "output_type": "stream",
          "name": "stdout",
          "text": [
            "Введите через порбел: 1 2 2 1 4 5 2 4 банан кокос банан вода\n",
            "['1', '2', '4', '5', 'банан', 'кокос', 'вода']\n"
          ]
        }
      ]
    },
    {
      "cell_type": "markdown",
      "source": [
        "# Задание 2\n",
        "\n",
        "**Задача:**\n",
        "\n",
        "Написать функцию для нахождения простых чисел в диапазоне\n",
        "\n",
        "Ввод:\n",
        "\n",
        "```\n",
        "10, 50\n",
        "```\n",
        "\n",
        "Вывод:\n",
        "\n",
        "```\n",
        "11, 13, 17, 19, 23, 29, 31, 37, 41, 43, 47\n",
        "```"
      ],
      "metadata": {
        "id": "y05x0eD0cVCC"
      }
    },
    {
      "cell_type": "code",
      "source": [
        "low = int(input('Введите нижнюю границу диапазона: '))\n",
        "hight = int(input('Введите верхнюю границу диапазона: '))\n",
        "\n",
        "\n",
        "def simple_numbers(low, hight):\n",
        "  numbers=''\n",
        "  for i in range(low, hight+1):\n",
        "    k = 0\n",
        "    for j in range(2, i):\n",
        "      if i%j!=0:\n",
        "        k+=1\n",
        "      if k==i-2:\n",
        "        numbers+=str(i)+' '\n",
        "      else:\n",
        "        continue\n",
        "  return numbers\n",
        "\n",
        "\n",
        "print(simple_numbers(low, hight))\n",
        "\n"
      ],
      "metadata": {
        "id": "XSMJnLgrc6Bf",
        "colab": {
          "base_uri": "https://localhost:8080/"
        },
        "outputId": "860c8356-573e-454a-c001-974bf02bdc9b"
      },
      "execution_count": null,
      "outputs": [
        {
          "output_type": "stream",
          "name": "stdout",
          "text": [
            "Введите нижнюю границу диапазона: 10\n",
            "Введите верхнюю границу диапазона: 50\n",
            "11 13 17 19 23 29 31 37 41 43 47 \n"
          ]
        }
      ]
    },
    {
      "cell_type": "markdown",
      "source": [
        "# Задание 3\n",
        "\n",
        "Напишите функцию для объединения двух списков (список ключей и список значении) в словарь\n",
        "\n",
        "*Запрещено:*\n",
        "\n",
        "*   Использования готовых функции для объединения списков (пример: zip() )\n",
        "\n",
        "Дано:\n",
        "\n",
        "```\n",
        "keys = ['a', 'b', 'c', 'e' ]\n",
        "values = [1, 2, 3, 4]\n",
        "```\n",
        "\n",
        "Вывод:\n",
        "```\n",
        "{'a': 1, 'b': 2, 'c': 3, 'e': 4}\n",
        "```\n",
        "\n",
        "\n"
      ],
      "metadata": {
        "id": "vYM0LyxxdElN"
      }
    },
    {
      "cell_type": "code",
      "source": [
        "keys = ['a', 'b', 'c', 'e']\n",
        "values = [1, 2, 3, 4]\n",
        "\n",
        "\n",
        "def association(keys, values):\n",
        "  a = {}\n",
        "  k = 0\n",
        "  for i in keys:\n",
        "    k+=1\n",
        "  for j in range(k):\n",
        "    a[keys[j]]=values[j]\n",
        "  return a\n",
        "\n",
        "\n",
        "print(association(keys, values))"
      ],
      "metadata": {
        "id": "CRvhHTjCdvjS",
        "colab": {
          "base_uri": "https://localhost:8080/"
        },
        "outputId": "06748557-68d8-4f7f-a3de-36c31e1ef08c"
      },
      "execution_count": null,
      "outputs": [
        {
          "output_type": "stream",
          "name": "stdout",
          "text": [
            "{'a': 1, 'b': 2, 'c': 3, 'e': 4}\n"
          ]
        }
      ]
    },
    {
      "cell_type": "markdown",
      "source": [
        "# Задание 4\n",
        "\n",
        "Напишите функцию(ии) для подсчета статистических параметров:\n",
        "*   Сумму\n",
        "*   Среднее арифметическое\n",
        "*   Медиану\n",
        "*   Моду\n",
        "\n",
        "\n",
        "*Запрещено:*\n",
        "\n",
        "*   sum()\n",
        "*   sorted()\n",
        "*   и других функции предоставляющих готовое решение задания\n",
        "\n",
        "Дано:\n",
        "\n",
        "```\n",
        "numbers = [1, 2, 2, 3, 4, 5, 6, 7, 8 ,9 ,10]\n",
        "\n",
        "```\n",
        "\n",
        "Вывод:\n",
        "```\n",
        "{'mean': 5.181818181818182, 'median': 5, 'mode': 2, 'sum': 57}\n",
        "```\n"
      ],
      "metadata": {
        "id": "L_w8H8i-fQcP"
      }
    },
    {
      "cell_type": "code",
      "source": [
        "numbers = [1, 2, 2, 3, 4, 5, 6, 7, 8 ,9 ,10]\n",
        "\n",
        "\n",
        "def count_numbers(numbers):\n",
        "  count_numbers=0\n",
        "  for i in numbers:\n",
        "    count_numbers+=1\n",
        "  return count_numbers\n",
        "\n",
        "\n",
        "def summa(numbers):\n",
        "  sum_numbers = 0\n",
        "  for i in numbers:\n",
        "    sum_numbers += i\n",
        "  return sum_numbers\n",
        "\n",
        "\n",
        "def count_numbers(numbers):\n",
        "  count_numbers=0\n",
        "  for i in numbers:\n",
        "    count_numbers+=1\n",
        "  return count_numbers\n",
        "\n",
        "\n",
        "def arithmetic_mean(numbers):\n",
        "  return summa(numbers)/count_numbers(numbers)\n",
        "\n",
        "\n",
        "def median(numbers):\n",
        "  if count_numbers(numbers)%2!=0:\n",
        "    median_position = (count_numbers(numbers)//2)\n",
        "  else:\n",
        "    median_position = (count_numbers(numbers)//2)-1\n",
        "  return numbers[median_position]\n",
        "\n",
        "\n",
        "def max_count(numbers_dictionary):\n",
        "  k_max = 0\n",
        "  v_max = 0\n",
        "  for k, v in numbers_dictionary.items():\n",
        "    if v > v_max:\n",
        "      v_max = v\n",
        "      k_max = k\n",
        "  return k_max\n",
        "\n",
        "\n",
        "numbers_dictionary = {}\n",
        "for i in numbers:\n",
        "  if i not in numbers_dictionary:\n",
        "    numbers_dictionary[i] = 1\n",
        "  else:\n",
        "    numbers_dictionary[i] += 1\n",
        "mode = max_count(numbers_dictionary)\n",
        "\n",
        "result={}\n",
        "result['mean'] = arithmetic_mean(numbers)\n",
        "result['median'] = median(numbers)\n",
        "result['mode'] = mode\n",
        "result['sum'] = summa(numbers)\n",
        "print(result)"
      ],
      "metadata": {
        "id": "dW6jW_rjfuba",
        "colab": {
          "base_uri": "https://localhost:8080/"
        },
        "outputId": "5098a000-a4aa-4be5-cacc-9bd19c141a37"
      },
      "execution_count": null,
      "outputs": [
        {
          "output_type": "stream",
          "name": "stdout",
          "text": [
            "{'mean': 5.181818181818182, 'median': 5, 'mode': 2, 'sum': 57}\n"
          ]
        }
      ]
    },
    {
      "cell_type": "markdown",
      "source": [
        "# Задание 5\n",
        "\n",
        "На ввод поступает строка символов. Строка состоит из слов, которые отделены друг от друга пробелами. Необходимо вывести самое длинное слово и его порядковый номер.\n",
        "\n",
        "*Запрещено:*\n",
        "\n",
        "*   len()\n",
        "\n",
        "Дано:\n",
        "\n",
        "```\n",
        "Страдание и боль всегда обязательны для широкого сознания и глубокого сердца.\n",
        "\n",
        "```\n",
        "\n",
        "Вывод:\n",
        "```\n",
        "Самое длинное слово с номером 5: обязательны\n",
        "```"
      ],
      "metadata": {
        "id": "hZW0NZ7SgTcp"
      }
    },
    {
      "cell_type": "code",
      "source": [
        "message = 'Страдание и боль всегда обязательны для широкого сознания и глубокого сердца.'\n",
        "\n",
        "\n",
        "def separation(message_separation):\n",
        "  length = {}\n",
        "  for i in message_separation:\n",
        "    k=0\n",
        "    for j in i:\n",
        "      k+=1\n",
        "    length[i] = k\n",
        "  return length\n",
        "\n",
        "\n",
        "def max_count(length):\n",
        "  k_max = 0\n",
        "  v_max = 0\n",
        "  for k, v in length.items():\n",
        "    if v > v_max:\n",
        "      v_max = v\n",
        "      k_max = k\n",
        "  return k_max\n",
        "\n",
        "\n",
        "message_separation = list(message.split(' '))\n",
        "length = separation(message_separation)\n",
        "max_count = max_count(length)\n",
        "\n",
        "k=0\n",
        "for i in message_separation:\n",
        "  k+=1\n",
        "  if i == max_count:\n",
        "    position = k\n",
        "\n",
        "print(f'Самое длинное слово с номером {position}: {max_count}')\n",
        "\n"
      ],
      "metadata": {
        "id": "rC5DpHHLsDYp",
        "colab": {
          "base_uri": "https://localhost:8080/"
        },
        "outputId": "34287d14-3d8b-4591-9db8-617a88f56fe0"
      },
      "execution_count": null,
      "outputs": [
        {
          "output_type": "stream",
          "name": "stdout",
          "text": [
            "Самое длинное слово с номером 5: обязательны\n"
          ]
        }
      ]
    },
    {
      "cell_type": "markdown",
      "source": [
        "# Задание 6\n",
        "\n",
        "Напишите программу, для управления оценками студентов, со следующими функциями:\n",
        "\n",
        "* Добавление информации о студенте и его оценках.\n",
        "* Подсчет среднего балла студента.\n",
        "* Получение списка всех студентов с их средними баллами.\n",
        "* Поиск студента по имени и вывод его оценок и среднего балла.\n",
        "\n",
        "\n",
        "\n"
      ],
      "metadata": {
        "id": "k5BzJW5ZeaQN"
      }
    },
    {
      "cell_type": "code",
      "source": [
        "def student(surname, grade): # Добавляет студенту оценки\n",
        "    if surname not in info:\n",
        "      info[surname]={}\n",
        "      info[surname]['grade']=list()\n",
        "      info[surname]['grade'].append(grade)\n",
        "    else:\n",
        "      info[surname]['grade'].append(grade)\n",
        "    return info\n",
        "\n",
        "\n",
        "def average_rating_all(info):# считает среднюю оценку всех студентов и возвращает список\n",
        "  average_rating = {}\n",
        "  for k in info.keys():\n",
        "    average_rating[k] = sum(info[k]['grade'])/len(info[k]['grade'])\n",
        "  return average_rating\n",
        "\n",
        "\n",
        "def average_rating(info, surname):# считает среднюю оценку студента\n",
        "  average_rating = sum(info[surname]['grade'])/len(info[surname]['grade'])\n",
        "  return average_rating\n",
        "\n",
        "\n",
        "info={}#инфа о студентах\n",
        "\n",
        "while True:\n",
        "  question = int(input('Что вы хотите сделать? 1)Поставить оценку определенному студенту\\\n",
        "  \\n2)Получить список всех студентов с их средними баллами\\\n",
        "  \\n3)Вывести информацию о студенте\\\n",
        "  \\n'))\n",
        "  if question == 1:\n",
        "    surname = input('Фамилия студента: ').lower()\n",
        "    grade = int(input('Введите оценку: '))\n",
        "    filling(surname, grade)\n",
        "\n",
        "  if question == 2:\n",
        "    if info != {}:\n",
        "      for k, v in average_rating_all(info).items():\n",
        "        print(f'{k}, Средняя оценка: {v}')\n",
        "    else:\n",
        "      print('Информация о студентах отсутствует! ')\n",
        "\n",
        "  if question == 3:\n",
        "    surname = input('Информацию о каком студете вы хотите посмотреть?(фамилия) ').lower()\n",
        "    grade = ''\n",
        "    if surname in info:\n",
        "      for i in info[surname]['grade']:\n",
        "        grade += str(i) + ', '\n",
        "      print(f'Оценки ученика: {grade} Средний балл ученика: {average_rating(info, surname)}')\n",
        "    else:\n",
        "      print('У данного стедента отсутствуют оценки! ')\n",
        "\n"
      ],
      "metadata": {
        "id": "cvhlltVbdyoL",
        "colab": {
          "base_uri": "https://localhost:8080/",
          "height": 356
        },
        "outputId": "a738d3bf-5a00-4724-ac3d-cc3e338a0de5"
      },
      "execution_count": null,
      "outputs": [
        {
          "output_type": "error",
          "ename": "KeyboardInterrupt",
          "evalue": "Interrupted by user",
          "traceback": [
            "\u001b[0;31m---------------------------------------------------------------------------\u001b[0m",
            "\u001b[0;31mKeyboardInterrupt\u001b[0m                         Traceback (most recent call last)",
            "\u001b[0;32m<ipython-input-24-c1b3fd3580f5>\u001b[0m in \u001b[0;36m<cell line: 25>\u001b[0;34m()\u001b[0m\n\u001b[1;32m     24\u001b[0m \u001b[0;34m\u001b[0m\u001b[0m\n\u001b[1;32m     25\u001b[0m \u001b[0;32mwhile\u001b[0m \u001b[0;32mTrue\u001b[0m\u001b[0;34m:\u001b[0m\u001b[0;34m\u001b[0m\u001b[0;34m\u001b[0m\u001b[0m\n\u001b[0;32m---> 26\u001b[0;31m   question = int(input('Что вы хотите сделать? 1)Поставить оценку определенному студенту\\\n\u001b[0m\u001b[1;32m     27\u001b[0m   \\n2)Получить список всех студентов с их средними баллами\\\n\u001b[1;32m     28\u001b[0m   \\n3)Вывести информацию о студенте\\\n",
            "\u001b[0;32m/usr/local/lib/python3.10/dist-packages/ipykernel/kernelbase.py\u001b[0m in \u001b[0;36mraw_input\u001b[0;34m(self, prompt)\u001b[0m\n\u001b[1;32m    849\u001b[0m                 \u001b[0;34m\"raw_input was called, but this frontend does not support input requests.\"\u001b[0m\u001b[0;34m\u001b[0m\u001b[0;34m\u001b[0m\u001b[0m\n\u001b[1;32m    850\u001b[0m             )\n\u001b[0;32m--> 851\u001b[0;31m         return self._input_request(str(prompt),\n\u001b[0m\u001b[1;32m    852\u001b[0m             \u001b[0mself\u001b[0m\u001b[0;34m.\u001b[0m\u001b[0m_parent_ident\u001b[0m\u001b[0;34m,\u001b[0m\u001b[0;34m\u001b[0m\u001b[0;34m\u001b[0m\u001b[0m\n\u001b[1;32m    853\u001b[0m             \u001b[0mself\u001b[0m\u001b[0;34m.\u001b[0m\u001b[0m_parent_header\u001b[0m\u001b[0;34m,\u001b[0m\u001b[0;34m\u001b[0m\u001b[0;34m\u001b[0m\u001b[0m\n",
            "\u001b[0;32m/usr/local/lib/python3.10/dist-packages/ipykernel/kernelbase.py\u001b[0m in \u001b[0;36m_input_request\u001b[0;34m(self, prompt, ident, parent, password)\u001b[0m\n\u001b[1;32m    893\u001b[0m             \u001b[0;32mexcept\u001b[0m \u001b[0mKeyboardInterrupt\u001b[0m\u001b[0;34m:\u001b[0m\u001b[0;34m\u001b[0m\u001b[0;34m\u001b[0m\u001b[0m\n\u001b[1;32m    894\u001b[0m                 \u001b[0;31m# re-raise KeyboardInterrupt, to truncate traceback\u001b[0m\u001b[0;34m\u001b[0m\u001b[0;34m\u001b[0m\u001b[0m\n\u001b[0;32m--> 895\u001b[0;31m                 \u001b[0;32mraise\u001b[0m \u001b[0mKeyboardInterrupt\u001b[0m\u001b[0;34m(\u001b[0m\u001b[0;34m\"Interrupted by user\"\u001b[0m\u001b[0;34m)\u001b[0m \u001b[0;32mfrom\u001b[0m \u001b[0;32mNone\u001b[0m\u001b[0;34m\u001b[0m\u001b[0;34m\u001b[0m\u001b[0m\n\u001b[0m\u001b[1;32m    896\u001b[0m             \u001b[0;32mexcept\u001b[0m \u001b[0mException\u001b[0m \u001b[0;32mas\u001b[0m \u001b[0me\u001b[0m\u001b[0;34m:\u001b[0m\u001b[0;34m\u001b[0m\u001b[0;34m\u001b[0m\u001b[0m\n\u001b[1;32m    897\u001b[0m                 \u001b[0mself\u001b[0m\u001b[0;34m.\u001b[0m\u001b[0mlog\u001b[0m\u001b[0;34m.\u001b[0m\u001b[0mwarning\u001b[0m\u001b[0;34m(\u001b[0m\u001b[0;34m\"Invalid Message:\"\u001b[0m\u001b[0;34m,\u001b[0m \u001b[0mexc_info\u001b[0m\u001b[0;34m=\u001b[0m\u001b[0;32mTrue\u001b[0m\u001b[0;34m)\u001b[0m\u001b[0;34m\u001b[0m\u001b[0;34m\u001b[0m\u001b[0m\n",
            "\u001b[0;31mKeyboardInterrupt\u001b[0m: Interrupted by user"
          ]
        }
      ]
    },
    {
      "cell_type": "markdown",
      "source": [
        "# Задание 7\n",
        "\n",
        "\n",
        "**Задача:**\n",
        "\n",
        "Создайте приложение-викторину с командной строкой, которое задает пользователям вопросы по различным темам и отслеживает их результаты.\n",
        "\n",
        "Ключевые особенности:\n",
        "\n",
        "*   Хранение данных о вопросах и ответах на них, а также баллов за каждый вопрос\n",
        "*   Реализуйте функцию для представления вопросов, принятия ответов пользователей и предоставления обратной связи о том, являются ли ответы правильными или неправильными.\n",
        "*  После завершения викторины отобразите общий балл пользователя из числа ответов на вопросы.\n",
        "*  Реализуйте функцию добавления нового вопроса\n",
        "*  Реализуйте функцию перемешивания вопросов, для отображения случайного вопроса\n"
      ],
      "metadata": {
        "id": "iQ8Z-7PYgu1_"
      }
    },
    {
      "cell_type": "code",
      "source": [
        "from random import *\n",
        "\n",
        "history_questions = {'Год начала северной войны: ': 1700, 'Год начала Отечественной войны: ': 1812,\n",
        "                     'Год крещения Руси: ': 988, 'Год начала Второй Мировой войны: ': 1939,\n",
        "                     'Год развала СССР: ': 1991, 'Год отмены крепостного права: ': 1861\n",
        "                     }\n",
        "\n",
        "geography_questions = {'Сколько океанов на земле? ': 4, 'Сколько материков на земле? ': 6,\n",
        "                       'Самая большая страна в мире': 'Россия', 'Самая маленькая страна в мире?': 'Ватикан',\n",
        "                       'Как называется самая большая река, протекающая через Париж?': 'Сена'\n",
        "                       }\n",
        "\n",
        "math_questions = {'Сколько будет 7 в третьей степени? ': 243, 'Сколько существует цифр? ': 10,\n",
        "                  'Чему равен синус 0?': 0, 'Чему равен корень 64?': 8, 'Сколько сантиметров в километре? ': 100000}\n",
        "\n",
        "\n",
        "def quiz(lesson):\n",
        "  k = 0\n",
        "  while k<3:\n",
        "    question = input(choice(lesson))\n",
        "    k+=1\n",
        "\n",
        "quiz=int(input('По какому предмету вы хотите пройти викторину? 1)История \\\n",
        "\\n2)География 3) Математика 4)Хочу добавить вопрос в викторину '))\n",
        "if quiz == 1:\n",
        "  lesson = 'history_questions'\n",
        "  quiz(lesson)\n",
        "\n"
      ],
      "metadata": {
        "id": "DhxyYwHwh2V4",
        "colab": {
          "base_uri": "https://localhost:8080/",
          "height": 228
        },
        "outputId": "f8eccec2-acbe-4494-8306-59a517d3ca5a"
      },
      "execution_count": null,
      "outputs": [
        {
          "name": "stdout",
          "output_type": "stream",
          "text": [
            "По какому предмету вы хотите пройти викторину? 1)История \n",
            "2)География 3) Математика 4)Хочу добавить вопрос в викторину 1\n"
          ]
        },
        {
          "output_type": "error",
          "ename": "TypeError",
          "evalue": "'int' object is not callable",
          "traceback": [
            "\u001b[0;31m---------------------------------------------------------------------------\u001b[0m",
            "\u001b[0;31mTypeError\u001b[0m                                 Traceback (most recent call last)",
            "\u001b[0;32m<ipython-input-39-4273202ce29e>\u001b[0m in \u001b[0;36m<cell line: 25>\u001b[0;34m()\u001b[0m\n\u001b[1;32m     25\u001b[0m \u001b[0;32mif\u001b[0m \u001b[0mquiz\u001b[0m \u001b[0;34m==\u001b[0m \u001b[0;36m1\u001b[0m\u001b[0;34m:\u001b[0m\u001b[0;34m\u001b[0m\u001b[0;34m\u001b[0m\u001b[0m\n\u001b[1;32m     26\u001b[0m   \u001b[0mlesson\u001b[0m \u001b[0;34m=\u001b[0m \u001b[0;34m'history_questions'\u001b[0m\u001b[0;34m\u001b[0m\u001b[0;34m\u001b[0m\u001b[0m\n\u001b[0;32m---> 27\u001b[0;31m   \u001b[0mquiz\u001b[0m\u001b[0;34m(\u001b[0m\u001b[0mlesson\u001b[0m\u001b[0;34m)\u001b[0m\u001b[0;34m\u001b[0m\u001b[0;34m\u001b[0m\u001b[0m\n\u001b[0m\u001b[1;32m     28\u001b[0m \u001b[0;34m\u001b[0m\u001b[0m\n",
            "\u001b[0;31mTypeError\u001b[0m: 'int' object is not callable"
          ]
        }
      ]
    }
  ]
}