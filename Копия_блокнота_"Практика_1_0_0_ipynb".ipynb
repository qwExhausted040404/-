{
  "nbformat": 4,
  "nbformat_minor": 0,
  "metadata": {
    "colab": {
      "provenance": [],
      "include_colab_link": true
    },
    "kernelspec": {
      "name": "python3",
      "display_name": "Python 3"
    },
    "language_info": {
      "name": "python"
    }
  },
  "cells": [
    {
      "cell_type": "markdown",
      "metadata": {
        "id": "view-in-github",
        "colab_type": "text"
      },
      "source": [
        "<a href=\"https://colab.research.google.com/github/qwExhausted040404/-/blob/main/%D0%9A%D0%BE%D0%BF%D0%B8%D1%8F_%D0%B1%D0%BB%D0%BE%D0%BA%D0%BD%D0%BE%D1%82%D0%B0_%22%D0%9F%D1%80%D0%B0%D0%BA%D1%82%D0%B8%D0%BA%D0%B0_1_0_0_ipynb%22.ipynb\" target=\"_parent\"><img src=\"https://colab.research.google.com/assets/colab-badge.svg\" alt=\"Open In Colab\"/></a>"
      ]
    },
    {
      "cell_type": "markdown",
      "source": [
        "ФИО: Тумаков Тимофей Кириллович"
      ],
      "metadata": {
        "id": "fLDS5f_mCnPa"
      }
    },
    {
      "cell_type": "markdown",
      "source": [
        "# Задание (совместное с преподавателем)\n",
        "\n",
        "\n"
      ],
      "metadata": {
        "id": "-CSHUbWzCqeM"
      }
    },
    {
      "cell_type": "markdown",
      "source": [
        "Напишите систему для учёта отпусков с возможностью узнавать, сколько дней отпуска осталось у того или иного сотрудника.\n",
        "Для этого создайте класс Employee со следующими методами:\n",
        "\n",
        "- Метод consume_vacation должен отвечать за списание дней отпуска.\n",
        "\n",
        "Единственный параметр этого метода (кроме self) — количество потраченных отпускных дней (целое число).\n",
        "\n",
        "При вызове метода consume_vacation соответствующее количество дней должно вычитаться из общего числа доступных отпускных дней сотрудника.\n",
        "\n",
        "Чтобы определить число доступных отпускных дней конкретного сотрудника, в классе опишите атрибут экземпляра |, который по умолчанию будет равен значению атрибута класса vacation_days, и используйте этот атрибут в работе метода.\n",
        "\n",
        "- Метод get_vacation_details должен возвращать остаток отпускных дней сотрудника в формате: ```Остаток отпускных дней: <число>.```\n",
        "\n",
        "\n",
        "Чтобы проверить работу программы:\n",
        "1. Создайте экземпляр класса Employee.\n",
        "2. Вызовите метод consume_vacation, указав подходящее значение аргумента, например 7.\n",
        "3. Вызовите метод get_vacation_details."
      ],
      "metadata": {
        "id": "a_flBjZOCwYz"
      }
    },
    {
      "cell_type": "code",
      "source": [
        "class Employee:\n",
        "  vacation_days = 28 # атрибус для любого объекта\n",
        "\n",
        "  def __init__(self, first_name, second_name, gender):\n",
        "    self.first_name = first_name\n",
        "    self.second_name = second_name\n",
        "    self.gender = gender\n",
        "    self.remaining_vacation_days = self.vacation_days\n",
        "\n",
        "  def consume_vacation(self, days):\n",
        "    self.remaining_vacation_days -= days\n",
        "\n",
        "  def get_vacation_details(self):\n",
        "    return f'остаток отпускных дней: {self.remaining_vacation_days}.'\n"
      ],
      "metadata": {
        "id": "G4bUraN4CwBI"
      },
      "execution_count": null,
      "outputs": []
    },
    {
      "cell_type": "code",
      "source": [
        "employee = Employee('Олег', 'СуперОлег', 'м')\n",
        "employee2 = Employee('Олег', 'НеСуперОлег', 'м')\n",
        "\n",
        "print(f'\\nИмя:', employee.first_name,\n",
        "      f'\\nФамилия:', employee.second_name,\n",
        "      f'\\nПол:', employee.gender,\n",
        "      f'\\nКоличество доступных дней: ', employee.remaining_vacation_days, '\\n')\n",
        "\n",
        "print(20*'-')\n",
        "\n",
        "print(f'\\nИмя:', employee2.first_name,\n",
        "      f'\\nФамилия:', employee2.second_name,\n",
        "      f'\\nПол:', employee2.gender,\n",
        "      f'\\nКоличество доступных дней: ', employee2.remaining_vacation_days, '\\n')\n",
        "\n",
        "print('В отпуск уехал {employee.first_name} в Майами {14} дней')\n",
        "employee.consume_vacation(14)\n",
        "\n",
        "print(employee.get_vacation_details())"
      ],
      "metadata": {
        "id": "PjC80UB9Tz8i",
        "colab": {
          "base_uri": "https://localhost:8080/"
        },
        "outputId": "89943f43-4095-4186-8ea6-a24292bb4638"
      },
      "execution_count": null,
      "outputs": [
        {
          "output_type": "stream",
          "name": "stdout",
          "text": [
            "\n",
            "Имя: Олег \n",
            "Фамилия: СуперОлег \n",
            "Пол: м \n",
            "Количество доступных дней:  28 \n",
            "\n",
            "--------------------\n",
            "\n",
            "Имя: Олег \n",
            "Фамилия: НеСуперОлег \n",
            "Пол: м \n",
            "Количество доступных дней:  28 \n",
            "\n",
            "В отпуск уехал {employee.first_name} в Майами {14} дней\n",
            "остаток отпускных дней: 14.\n"
          ]
        }
      ]
    },
    {
      "cell_type": "markdown",
      "source": [
        "# Задание 1"
      ],
      "metadata": {
        "id": "8XGka5GtEBK1"
      }
    },
    {
      "cell_type": "markdown",
      "source": [
        "Задание:\n",
        "\n",
        "Создайте класс с именем Rectangle который имеет:\n",
        "- Атрибуты ширины и высоты.\n",
        "- Метод расчета площади.\n",
        "- Метод расчета периметра.\n",
        "- Метод отображения размеров прямоугольника.\n",
        "\n",
        "Создайте экземпляр класса Rectangleи продемонстрируйте его функциональность."
      ],
      "metadata": {
        "id": "jQ4qqd8nEZBY"
      }
    },
    {
      "cell_type": "code",
      "source": [
        "class Rectangle:\n",
        "\n",
        "  def __init__(self,width,height):\n",
        "    self.width_rectangle = width\n",
        "    self.height_rectangle = height\n",
        "\n",
        "  def square(self):\n",
        "    square = self.width_rectangle * self.height_rectangle\n",
        "    return square\n",
        "\n",
        "  def perimeter(self):\n",
        "    perimeter = (self.width_rectangle * 2) + (self.height_rectangle * 2)\n",
        "    return perimeter\n",
        "\n",
        "  def display(self):\n",
        "    return f'Ширина равна: {self.width_rectangle}, а длина: {self.height_rectangle}'\n",
        "\n",
        "rectangle = Rectangle(4,5)\n",
        "print(f'Площадь равна: {rectangle.square()}')\n",
        "print(f'Периметр равен: {rectangle.perimeter()}')\n",
        "print(rectangle.display())"
      ],
      "metadata": {
        "id": "dG6uNPqTEAvt",
        "colab": {
          "base_uri": "https://localhost:8080/"
        },
        "outputId": "ec2a5851-fd28-4d53-e0e8-01741d836ff2"
      },
      "execution_count": null,
      "outputs": [
        {
          "output_type": "stream",
          "name": "stdout",
          "text": [
            "Площадь равна: 20\n",
            "Периметр равен: 18\n",
            "Ширина равна: 4, а длина: 5\n"
          ]
        }
      ]
    },
    {
      "cell_type": "markdown",
      "source": [
        "# Задание 2"
      ],
      "metadata": {
        "id": "0ct1u6lqE73j"
      }
    },
    {
      "cell_type": "markdown",
      "source": [
        "Задание: Создайте мини версию банковской системы:\n",
        "\n",
        "\n",
        "Инструкции:\n",
        "\n",
        "1. Создайте класс BankAccountсо следующими атрибутами:\n",
        "    - account_holder -  владелец счета\n",
        "    - balance - баланс счета\n",
        "\n",
        "2. Реализуйте следующие методы:\n",
        "    - Метод для инициализации владельца счета: имя владельца счета и установите начальный баланс на 0.\n",
        "    - deposit(amount): Добавьте указанную сумму к балансу.\n",
        "    - withdraw(amount): Вычесть указанную сумму из баланса, если средств достаточно; в противном случае вывести предупреждение.\n",
        "    - get_balance(): Возврат текущего баланса.\n",
        "\n",
        "\n",
        "Создайте объект класса и продемонстрируйте его возможности"
      ],
      "metadata": {
        "id": "FOpIpcLxE-WK"
      }
    },
    {
      "cell_type": "code",
      "source": [
        "class BankAccountсо:\n",
        "\n",
        "  def __init__(self, account_holder, balance):\n",
        "    self.account_holder = account_holder\n",
        "    self.balance = balance\n",
        "\n",
        "  def initialization(self):\n",
        "    return(f'Владелец счета: {self.account_holder}, баланс: {self.balance}')\n",
        "\n",
        "  def deposit(self, amount):\n",
        "    self.balance += amount\n",
        "    return f'Теперь баланс {self.account_holder} равен {self.balance}'\n",
        "\n",
        "  def withdraw(self, amount):\n",
        "    if self.balance - amount >= 0:\n",
        "      self.balance -= amount\n",
        "      return f'Теперь баланс {self.account_holder} равен {self.balance}'\n",
        "    else:\n",
        "      return'Недостаточно средств'\n",
        "\n",
        "  def get_balance(self):\n",
        "    return(f'баланс {self.account_holder}: {self.balance}')\n",
        "\n",
        "bank = BankAccountсо('Иван', 0)\n",
        "print(bank.initialization())\n",
        "print(bank.deposit(5))\n",
        "print(bank.withdraw(4))\n",
        "print(bank.withdraw(2))\n",
        "print(bank.get_balance())\n",
        "print()\n",
        "bank1 = BankAccountсо('Артур', 0)\n",
        "print(bank1.initialization())\n"
      ],
      "metadata": {
        "id": "WWXNIUrCE99W",
        "colab": {
          "base_uri": "https://localhost:8080/"
        },
        "outputId": "67e68fed-64e0-4017-e3bc-e236a9561683"
      },
      "execution_count": null,
      "outputs": [
        {
          "output_type": "stream",
          "name": "stdout",
          "text": [
            "Владелец счета: Иван, баланс: 0\n",
            "Теперь баланс Иван равен 5\n",
            "Теперь баланс Иван равен 1\n",
            "Недостаточно средств\n",
            "баланс Иван: 1\n",
            "\n",
            "Владелец счета: Артур, баланс: 0\n"
          ]
        }
      ]
    },
    {
      "cell_type": "markdown",
      "source": [
        "# Задание 3"
      ],
      "metadata": {
        "id": "C5DX5Uf2FfP6"
      }
    },
    {
      "cell_type": "markdown",
      "source": [
        "Возьмите код и задание (Рыцарь и дракон) из предыдущей практики и реализуйте его с применением классов"
      ],
      "metadata": {
        "id": "0cR-MYepFgz6"
      }
    },
    {
      "cell_type": "code",
      "source": [
        "from random import *\n",
        "\n",
        "class KnightDescription:\n",
        "  HP_knight = 100\n",
        "  def __init__(self):\n",
        "    self.HP_knight = HP_knight\n",
        "\n",
        "  def replenishment(self, quantity):#пополнение здоровья\n",
        "    KnightDescription.HP_knight += quantity\n",
        "\n",
        "  def loss(self, quantity):#потеря здоровья\n",
        "    KnightDescription.HP_knight -= quantity\n",
        "\n",
        "  def characteristic(self, knight_equipment, chapter):#характеристика\n",
        "    if chapter == 1:\n",
        "      return(knight_equipment['доспехи']['Описание'])\n",
        "    if chapter == 2:\n",
        "      return(knight_equipment['доспехи']['защита'])\n",
        "    if chapter == 3:\n",
        "      return(knight_equipment['оружие']['Описание'])\n",
        "    if chapter == 4:\n",
        "      return(knight_equipment['оружие']['урон'])\n",
        "    if chapter == 5:\n",
        "      return(KnightDescription.HP_knight)\n",
        "    else:\n",
        "      return('Ошибка! ')\n",
        "\n",
        "\n",
        "class DragonDescription:\n",
        "  HP_dragon = 100\n",
        "\n",
        "  def __init__(self):\n",
        "    self.HP_dragon = HP_dragon\n",
        "\n",
        "  def replenishment(self, quantity):#пополнение здоровья\n",
        "    DragonDescription.HP_dragon += quantity\n",
        "\n",
        "  def loss(self, quantity):#потеря здоровья\n",
        "    DragonDescription.HP_dragon -= quantity\n",
        "\n",
        "  def characteristic(self, dragon_equipment, chapter):#характеристика\n",
        "    if chapter == 1:\n",
        "      return(dragon_equipment['имя'])\n",
        "    if chapter == 2:\n",
        "      return(dragon_equipment['урон'])\n",
        "    if chapter == 3:\n",
        "      return(dragon_equipment['здоровье'])\n",
        "    else:\n",
        "      return('Ошибка! ')\n",
        "\n",
        "\n",
        "def fight(HP_knight, HP_dragon, min_damage_knight, max_damage_knight,\\\n",
        "          min_damage_dragon, max_damage_dragon, spell, name, dragon_equipment): # реализует бой с драконом\n",
        "  print(f'У дракона {DragonDescription.HP_dragon} HP, а у вашего рыцаря - {name} {KnightDescription.HP_knight} HP')\n",
        "  print('Вы намерены нанести первый удар дракону неожиданно!')\n",
        "  m1 = m2 = 0 #переменные для контроля заклятий\n",
        "  dragon_name = dragon_equipment['имя']\n",
        "  while KnightDescription.HP_knight > 0 and DragonDescription.HP_dragon > 0:\n",
        "    if spell != 0:\n",
        "      spell_fight = int(input(f'у вас есть {spell} заклятия. Использовать? 1) да 2) нет '))\n",
        "      if spell_fight == 1:\n",
        "        m1+=1\n",
        "        print('Вы использовали заклятие на дракона и оглушили его на один ход! ')\n",
        "        spell -= 1\n",
        "    attack = input(f'Атакуйте {dragon_name}a (напишите \"атаковать\") ').lower()\n",
        "    if attack != 'атаковать':\n",
        "      return f'Вы растерялись и {dragon_name} сжег вас '\n",
        "    attack_knight = randint(min_damage_knight, max_damage_knight)# задается рандомный урон обоим персонажам\n",
        "    attack_dragon = randint(min_damage_dragon, max_damage_dragon)\n",
        "    print(f'{name} порезал {dragon_name}a и снял ему {attack_knight} HP')\n",
        "    dragondescription = DragonDescription()\n",
        "    dragondescription.loss(attack_knight)\n",
        "    print()\n",
        "    if DragonDescription.HP_dragon > 0:\n",
        "      print(f'У {dragon_name}а осталось {DragonDescription.HP_dragon} HP')\n",
        "    else:\n",
        "      return('Вы нанесли решающий удар и успешно победили дракона! ')\n",
        "      break\n",
        "    print()\n",
        "    if m1 != m2:\n",
        "      print(f'{dragon_name} лежит без сознания и пропускает ход')\n",
        "      m2+=1\n",
        "    else:\n",
        "      if 4<= randint(1, 10) <= 10:# с 30% вероятностью доспехи поглотят половину урона\n",
        "        print(f'Дракон атаковал вас и доспехи не смогли защитить вас.\\\n",
        "        {dragon_name} снял вам {attack_dragon} HP')\n",
        "        knighthealth = KnightDescription()\n",
        "        knighthealth.loss(attack_dragon)\n",
        "        print()\n",
        "      else:\n",
        "        print(f'Ваши доспехи защитили вас и поглотили половину урона! полученный урон составил {attack_dragon//2}')\n",
        "        knighthealth = KnightDescription()\n",
        "        knighthealth.loss(attack_dragon // 2)\n",
        "    if KnightDescription.HP_knight > 0:\n",
        "      print(f'у {name} осталось {KnightDescription.HP_knight} HP')\n",
        "    else:\n",
        "      return (f'{dragon_name} сразил вас и вы погибли !')\n",
        "      break\n",
        "\n",
        "\n",
        "name = input('Дайте имя своему рыцарю: ')\n",
        "knight_equipment = {'доспехи':{'Описание':'Доспехи Теневого Стража выполнены из\\\n",
        "легкой, но прочной кожи, \\nобработанной специальным способом, чтобы она стала водо-\\\n",
        "и огнеупорной. \\nОни идеально облегают тело, не стесняя движений, и при этом\\\n",
        "обеспечивают надежную защиту. \\nЧерный и глубокий синий цвета, переплетенные вместе,\\\n",
        "создают эффект, словно доспехи поглощают свет, \\nпозволяя носителю сливаться с окружением\\\n",
        "', 'защита': 'с шансом 30% понижает полученный урон в два раза'}, 'оружие\\\n",
        "': {'Описание' : 'Этот великолепный меч, выкованный в сверкающем свете луны\\\n",
        ", \\nобьединяет в себе силу ночи и тайны. Его лезвие, выполненное из редкого металла\\\n",
        ", \\nпереливается черными и серебряными нитями, создавая иллюзию затмения\\\n",
        ". ', 'урон':'постоянный урон в диапазоне от 12 до 18,\\\n",
        "есть шанс 40% на удвоенный урон'}, 'здоровье': 100}\n",
        "\n",
        "dragon_equipment = {'имя': 'Муртаг', 'урон': 'от 12 до 18', 'здоровье': 100}\n",
        "\n",
        "info_game = 'Вы доблестный рыцарь, который жил не тужил, но в один момент злой\\\n",
        "\\nдракон украл вашу сестру и вы намерены спасти ее, и отправились в дальнюю дорогу.\\\n",
        "\\nДракон успел улететь на 24 километров от вас, каждый ход вы кидаете шестигранный\\\n",
        "\\nкубик, каждая единица равняется 1 километру. Вам нужно добраться к дракону за 7\\\n",
        "\\n6 ходов, иначе дракону добавится 50 HP.  на каждом ходу вас может ждать опасность\\\n",
        "\\nили улучшение. Удачи!'\n",
        "\n",
        "situation = ['Вы попали в ловушку и потеряли 10 HP', 'вы успешно совершили ход'\\\n",
        ", 'вы встретили огра и отрубили ему голову, ваш меч поломался и стал наносить на 2 урона меньше'\\\n",
        ", 'вы встретили фею, которая дала вам зелье, теперь у вас на 5 HP больше'\\\n",
        ",'в вас прилетел камень, вы теряете сознание и теряете один ход'\\\n",
        ", 'вы встретиил кузнеца который улучшил урон вашего меча на 2'\\\n",
        ", 'вы встретили ведьму, которая дала вам заклятие, способное обезвредить дракона на один ход во время битвы']\n",
        "\n",
        "cube = [1, 2, 3, 4, 5, 6]# варианты ходов\n",
        "HP_knight = knight_equipment['здоровье']\n",
        "HP_dragon = 100\n",
        "min_damage_knight = 12\n",
        "max_damage_knight = 18\n",
        "min_damage_dragon = 12\n",
        "max_damage_dragon = 18\n",
        "steps = 7# допустимое количество шагов до момента пока дракон не набрал силы\n",
        "distance_to_dragon = 24\n",
        "m = 0\n",
        "spell = 0 # количество заклинаний\n",
        "fight_end = ''#контроль над окончанием игры\n",
        "\n",
        "while fight_end == '':\n",
        "  move = int(input('Что вы хотите сделать? 1) посмоотреть информацию о рыцаре\\\n",
        "  2)посмотреть информацию о драконе 3) прочитать сюжет и правила\\\n",
        "  4) бросить кубик '))\n",
        "  if move == 1:\n",
        "    chapter = int(input('Какую информуцию вы хотите посмотреть? 1) описание доспех\\\n",
        "  2)защита доспех 3) описание оружия 4) урон оружия 5)HP рыцаря '))\n",
        "    knightdescription = KnightDescription()\n",
        "    print(knightdescription.characteristic(knight_equipment, chapter))\n",
        "  if move == 2:\n",
        "    chapter = int(input('Какую информуцию вы хотите посмотреть? 1) имя\\\n",
        "  2)урон 3) HP дракона '))\n",
        "    dragondescription = DragonDescription()\n",
        "    print(dragondescription.characteristic(dragon_equipment, chapter))\n",
        "  if move == 3:\n",
        "    print(info_game)\n",
        "  if move == 4:\n",
        "    steps -= 1\n",
        "    cube_1 = choices(cube)\n",
        "    situation_1 = choices(situation)\n",
        "    if steps > 0:\n",
        "      print(f'Осталось шагов до успешного похода к дракону: {steps}')\n",
        "    else:\n",
        "      m += 1\n",
        "      if m == 1:\n",
        "        print('Вы шли слишком долго, теперь у дракона на 50 HP больше! ')\n",
        "        dragondescription = DragonDescription()\n",
        "        dragondescription.replenishment(50)\n",
        "    distance_to_dragon -= cube_1[0]\n",
        "    if distance_to_dragon > 0:\n",
        "      print(f'Вам выпало {cube_1[0]}. до дракона осталось {distance_to_dragon} км')\n",
        "      if situation_1[0] == 'Вы попали в ловушку и потеряли 10 HP':\n",
        "        print(situation_1[0])\n",
        "        knighthealth = KnightDescription()\n",
        "        knighthealth.loss(10)\n",
        "      if situation_1[0] == 'вы успешно совершили ход':\n",
        "        print(situation_1[0])\n",
        "      if situation_1[0] == 'вы встретили огра и отрубили ему голову, ваш меч поломался и стал наносить на 2 урона меньше':\n",
        "        print('вы встретили огра и отрубили ему голову, ваш меч поломался и стал наносить на 2 урона меньше')\n",
        "        min_damage_knight -=2\n",
        "        max_damage_knight -= 2\n",
        "      if situation_1[0] == 'вы встретили фею, которая дала вам зелье, теперь у вас на 5 HP больше':\n",
        "        print(situation_1[0])\n",
        "        knighthealth = KnightDescription()\n",
        "        knighthealth.replenishment(5)\n",
        "      if situation_1[0] == 'в вас прилетел камень, вы теряете сознание и теряете один ход':\n",
        "        print(situation_1[0])\n",
        "        steps -= 1\n",
        "      if situation_1[0] == 'вы встретиил кузнеца который улучшил урон вашего меча на 2':\n",
        "        print('вы встретиил кузнеца который улучшил урон вашего меча на 2')\n",
        "        min_damage_knight += 2\n",
        "        max_damage_knight += 2\n",
        "      if situation_1[0] == 'вы встретили ведьму, которая дала вам заклятие, способное обезвредить дракона на один ход во время битвы':\n",
        "        print(situation_1[0])\n",
        "        spell += 1\n",
        "        print(f'Теперь у вас {spell} заклятие')\n",
        "    else:\n",
        "      print(f'Вам выпало {cube_1[0]}. Вы успешно дошли до дракона, теперь нужно сразиться с ним!')\n",
        "      print()\n",
        "      HP_knight = KnightDescription.HP_knight\n",
        "      itog = fight(KnightDescription.HP_knight, DragonDescription.HP_dragon, min_damage_knight, max_damage_knight, min_damage_dragon, max_damage_dragon, spell, name, dragon_equipment)\n",
        "      print(itog)\n",
        "      fight_end += 'end'\n",
        "\n",
        "\n"
      ],
      "metadata": {
        "id": "Oz9BZbhAFwua",
        "colab": {
          "base_uri": "https://localhost:8080/",
          "height": 426
        },
        "outputId": "4c1bd064-1cc0-43e8-f107-128822412a18"
      },
      "execution_count": null,
      "outputs": [
        {
          "output_type": "stream",
          "name": "stdout",
          "text": [
            "Дайте имя своему рыцарю: тимоша\n",
            "Что вы хотите сделать? 1) посмоотреть информацию о рыцаре  2)посмотреть информацию о драконе 3) прочитать сюжет и правила  4) бросить кубик 2\n",
            "Какую информуцию вы хотите посмотреть? 1) имя  2)урон 3) HP дракона 2\n",
            "от 12 до 18\n"
          ]
        },
        {
          "output_type": "error",
          "ename": "KeyboardInterrupt",
          "evalue": "Interrupted by user",
          "traceback": [
            "\u001b[0;31m---------------------------------------------------------------------------\u001b[0m",
            "\u001b[0;31mKeyboardInterrupt\u001b[0m                         Traceback (most recent call last)",
            "\u001b[0;32m<ipython-input-11-b4c0f3219e9b>\u001b[0m in \u001b[0;36m<cell line: 143>\u001b[0;34m()\u001b[0m\n\u001b[1;32m    142\u001b[0m \u001b[0;34m\u001b[0m\u001b[0m\n\u001b[1;32m    143\u001b[0m \u001b[0;32mwhile\u001b[0m \u001b[0mfight_end\u001b[0m \u001b[0;34m==\u001b[0m \u001b[0;34m''\u001b[0m\u001b[0;34m:\u001b[0m\u001b[0;34m\u001b[0m\u001b[0;34m\u001b[0m\u001b[0m\n\u001b[0;32m--> 144\u001b[0;31m   move = int(input('Что вы хотите сделать? 1) посмоотреть информацию о рыцаре\\\n\u001b[0m\u001b[1;32m    145\u001b[0m   2)посмотреть информацию о драконе 3) прочитать сюжет и правила\\\n\u001b[1;32m    146\u001b[0m   4) бросить кубик '))\n",
            "\u001b[0;32m/usr/local/lib/python3.10/dist-packages/ipykernel/kernelbase.py\u001b[0m in \u001b[0;36mraw_input\u001b[0;34m(self, prompt)\u001b[0m\n\u001b[1;32m    849\u001b[0m                 \u001b[0;34m\"raw_input was called, but this frontend does not support input requests.\"\u001b[0m\u001b[0;34m\u001b[0m\u001b[0;34m\u001b[0m\u001b[0m\n\u001b[1;32m    850\u001b[0m             )\n\u001b[0;32m--> 851\u001b[0;31m         return self._input_request(str(prompt),\n\u001b[0m\u001b[1;32m    852\u001b[0m             \u001b[0mself\u001b[0m\u001b[0;34m.\u001b[0m\u001b[0m_parent_ident\u001b[0m\u001b[0;34m,\u001b[0m\u001b[0;34m\u001b[0m\u001b[0;34m\u001b[0m\u001b[0m\n\u001b[1;32m    853\u001b[0m             \u001b[0mself\u001b[0m\u001b[0;34m.\u001b[0m\u001b[0m_parent_header\u001b[0m\u001b[0;34m,\u001b[0m\u001b[0;34m\u001b[0m\u001b[0;34m\u001b[0m\u001b[0m\n",
            "\u001b[0;32m/usr/local/lib/python3.10/dist-packages/ipykernel/kernelbase.py\u001b[0m in \u001b[0;36m_input_request\u001b[0;34m(self, prompt, ident, parent, password)\u001b[0m\n\u001b[1;32m    893\u001b[0m             \u001b[0;32mexcept\u001b[0m \u001b[0mKeyboardInterrupt\u001b[0m\u001b[0;34m:\u001b[0m\u001b[0;34m\u001b[0m\u001b[0;34m\u001b[0m\u001b[0m\n\u001b[1;32m    894\u001b[0m                 \u001b[0;31m# re-raise KeyboardInterrupt, to truncate traceback\u001b[0m\u001b[0;34m\u001b[0m\u001b[0;34m\u001b[0m\u001b[0m\n\u001b[0;32m--> 895\u001b[0;31m                 \u001b[0;32mraise\u001b[0m \u001b[0mKeyboardInterrupt\u001b[0m\u001b[0;34m(\u001b[0m\u001b[0;34m\"Interrupted by user\"\u001b[0m\u001b[0;34m)\u001b[0m \u001b[0;32mfrom\u001b[0m \u001b[0;32mNone\u001b[0m\u001b[0;34m\u001b[0m\u001b[0;34m\u001b[0m\u001b[0m\n\u001b[0m\u001b[1;32m    896\u001b[0m             \u001b[0;32mexcept\u001b[0m \u001b[0mException\u001b[0m \u001b[0;32mas\u001b[0m \u001b[0me\u001b[0m\u001b[0;34m:\u001b[0m\u001b[0;34m\u001b[0m\u001b[0;34m\u001b[0m\u001b[0m\n\u001b[1;32m    897\u001b[0m                 \u001b[0mself\u001b[0m\u001b[0;34m.\u001b[0m\u001b[0mlog\u001b[0m\u001b[0;34m.\u001b[0m\u001b[0mwarning\u001b[0m\u001b[0;34m(\u001b[0m\u001b[0;34m\"Invalid Message:\"\u001b[0m\u001b[0;34m,\u001b[0m \u001b[0mexc_info\u001b[0m\u001b[0;34m=\u001b[0m\u001b[0;32mTrue\u001b[0m\u001b[0;34m)\u001b[0m\u001b[0;34m\u001b[0m\u001b[0;34m\u001b[0m\u001b[0m\n",
            "\u001b[0;31mKeyboardInterrupt\u001b[0m: Interrupted by user"
          ]
        }
      ]
    },
    {
      "cell_type": "markdown",
      "source": [
        "# Дополнительное задание\n"
      ],
      "metadata": {
        "id": "b_mJHXcQGI9t"
      }
    },
    {
      "cell_type": "markdown",
      "source": [
        "Задача: Система управления библиотекой\n",
        "\n",
        "**Цель**\n",
        "Создайте простую систему управления библиотекой, которая позволит пользователям добавлять книги, брать книги, возвращать книги и просматривать список доступных книг.\n",
        "\n",
        "**Требования**\n",
        "\n",
        "1. **Определение класса**:\n",
        "   – Создайте класс с именем «Book» со следующими атрибутами:\n",
        "     - `title`\n",
        "     - `автор`\n",
        "     - `isbn`\n",
        "     - `is_borrowed` (по умолчанию `False`)\n",
        "\n",
        "2. **Класс библиотеки**:\n",
        "   - Создайте класс с именем Library, который управляет коллекцией книг.\n",
        "   - Класс должен иметь следующие методы:\n",
        "     - `__init__(self)`: инициализирует пустой список книг.\n",
        "     - `add_book(self, book: Book)`: добавляет новую книгу в библиотеку.\n",
        "     - `borrow_book(self, isbn: str)`: помечает книгу как заимствованную. Если книга не найдена или уже взята, выведите соответствующее сообщение.\n",
        "     - `return_book(self, isbn: str)`: помечает книгу как возвращенную. Если книга не найдена или не была взята взаймы, выведите соответствующее сообщение.\n",
        "     - `list_available_books(self)`: печатает список всех доступных книг в библиотеке.\n",
        "     - `find_book(self, isbn: str)`: возвращает объект книги, если он найден, в противном случае возвращает `None`.\n",
        "\n",
        "3. **Взаимодействие с пользователем**:\n",
        "   - Создайте простое текстовое меню, которое позволит пользователям:\n",
        "     - Добавить книгу\n",
        "     - Одолжить книгу\n",
        "     - Вернуть книгу\n",
        "     - Список доступных книг\n",
        "     - Выйти из программы"
      ],
      "metadata": {
        "id": "pnIUdFPcGOVL"
      }
    },
    {
      "cell_type": "code",
      "source": [
        "class Book:\n",
        "    def __init__(self, title, author, isbn):\n",
        "        self.title = title\n",
        "        self.author = author\n",
        "        self.isbn = isbn\n",
        "        self.is_borrowed = False\n",
        "\n",
        "    def __str__(self):\n",
        "        if self.is_borrowed:\n",
        "            return f'книга: {self.title} автор: {self.author} isbn: {self.isbn} Отсутствует в библиотеке'\n",
        "        else:\n",
        "            return f'книга: {self.title} автор: {self.author} isbn: {self.isbn} Имеется в библиотеке'\n",
        "\n",
        "class Library:\n",
        "    def __init__(self):\n",
        "        self.books = {}\n",
        "\n",
        "    def add_book(self, book):\n",
        "        self.books[book.isbn] = book#добавляем в словарь с ключем isbn\n",
        "        print(f'Книга \"{book.title}\" Теперь в библиотеке.')\n",
        "        return(self.books)\n",
        "\n",
        "    def borrow_book(self, isbn):\n",
        "        book = self.find_book(isbn)\n",
        "        if book == None:\n",
        "            print(\"Книга не найдена.\")\n",
        "\n",
        "        if book.is_borrowed:\n",
        "            print(\"Эта книга уже одолжена.\")\n",
        "\n",
        "        else:\n",
        "            book.is_borrowed = True\n",
        "            print(f'Вы одолжили книгу \"{book.title}\".')\n",
        "\n",
        "    def return_book(self, isbn):\n",
        "        book = self.find_book(isbn)\n",
        "        if book == None:\n",
        "            print(\"Книга не найдена.\")\n",
        "            return\n",
        "        if not book.is_borrowed:\n",
        "            print(\"Эта книга не была одолжена.\")\n",
        "        book.is_borrowed = False\n",
        "        print(f'Вы вернули книгу \"{book.title}\".')\n",
        "\n",
        "    def list_available_books(self):\n",
        "        available_books = [book for book in self.books.values() if not book.is_borrowed]#создание списка, где есть названия имеющихся книг(идет по зачениям словаря)\n",
        "        if available_books:\n",
        "            print(\"Доступные книги: \")\n",
        "            for book in available_books:\n",
        "                if not book.is_borrowed:\n",
        "                    status = \"Имеется в библиотеке\"\n",
        "                else:\n",
        "                    status = \"Отсутствует в библиотеке\"\n",
        "                print(f'Книга: {book.title}, Автор: {book.author}, isbn: {book.isbn}. Статус книги: {status}')\n",
        "        else:\n",
        "            print(\"Книги отсутствуют.\")\n",
        "\n",
        "    def find_book(self, isbn):\n",
        "        return self.books.get(isbn)\n",
        "\n",
        "\n",
        "library = Library()\n",
        "\n",
        "while True:\n",
        "    inquiry = int(input('Что вы хотите сделать?\\\n",
        "        \\n1) Добавить книгу\\\n",
        "        \\n2) Одолжить книгу\\\n",
        "        \\n3) Вернуть книгу\\\n",
        "        \\n4) Список доступных книг\\\n",
        "        \\n5) Выйти из программы\\\n",
        "        \\n'))\n",
        "\n",
        "    if inquiry == 1:\n",
        "        title = input(\"Введите название книги: \")\n",
        "        author = input(\"Введите автора книги: \")\n",
        "        isbn = input(\"Введите isbn книги: \")\n",
        "        new_book = Book(title, author, isbn)\n",
        "        library.add_book(new_book)\n",
        "\n",
        "\n",
        "    elif inquiry == 2:\n",
        "        isbn = input(\"Введите isbn книги, которую хотите одолжить: \")\n",
        "        library.borrow_book(isbn)\n",
        "\n",
        "    elif inquiry == 3:\n",
        "        isbn = input(\"Введите isbn книги, которую хотите вернуть: \")\n",
        "        library.return_book(isbn)\n",
        "\n",
        "    elif inquiry == 4:\n",
        "        library.list_available_books()\n",
        "\n",
        "    elif inquiry == 5:\n",
        "        break\n",
        "\n",
        "    else:\n",
        "        print('Ошибка! ')\n",
        "\n",
        "\n",
        "\n"
      ],
      "metadata": {
        "id": "GKKmdfN8GL6f",
        "colab": {
          "base_uri": "https://localhost:8080/"
        },
        "outputId": "03aa5b59-d1fb-475e-e211-259ca741950e"
      },
      "execution_count": null,
      "outputs": [
        {
          "name": "stdout",
          "output_type": "stream",
          "text": [
            "Что вы хотите сделать?        \n",
            "1) Добавить книгу        \n",
            "2) Одолжить книгу        \n",
            "3) Вернуть книгу        \n",
            "4) Список доступных книг        \n",
            "5) Выйти из программы        \n",
            "1\n",
            "Введите название книги: тимошка в стране чудес\n",
            "Введите автора книги: я\n",
            "Введите isbn книги: 123\n",
            "Книга \"тимошка в стране чудес\" Теперь в библиотеке.\n",
            "Что вы хотите сделать?        \n",
            "1) Добавить книгу        \n",
            "2) Одолжить книгу        \n",
            "3) Вернуть книгу        \n",
            "4) Список доступных книг        \n",
            "5) Выйти из программы        \n",
            "4\n",
            "Доступные книги: \n",
            "Книга: тимошка в стране чудес, Автор: я, isbn: 123. Статус книги: Имеется в библиотеке\n",
            "Что вы хотите сделать?        \n",
            "1) Добавить книгу        \n",
            "2) Одолжить книгу        \n",
            "3) Вернуть книгу        \n",
            "4) Список доступных книг        \n",
            "5) Выйти из программы        \n",
            "2\n",
            "Введите isbn книги, которую хотите одолжить: 123\n",
            "Вы одолжили книгу \"тимошка в стране чудес\".\n",
            "Что вы хотите сделать?        \n",
            "1) Добавить книгу        \n",
            "2) Одолжить книгу        \n",
            "3) Вернуть книгу        \n",
            "4) Список доступных книг        \n",
            "5) Выйти из программы        \n",
            "3\n",
            "Введите isbn книги, которую хотите вернуть: 123\n",
            "Вы вернули книгу \"тимошка в стране чудес\".\n",
            "Что вы хотите сделать?        \n",
            "1) Добавить книгу        \n",
            "2) Одолжить книгу        \n",
            "3) Вернуть книгу        \n",
            "4) Список доступных книг        \n",
            "5) Выйти из программы        \n",
            "5\n"
          ]
        }
      ]
    }
  ]
}